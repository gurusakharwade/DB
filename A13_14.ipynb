{
  "cells": [
    {
      "cell_type": "code",
      "execution_count": null,
      "metadata": {
        "id": "eabe9102"
      },
      "outputs": [],
      "source": [
        "import numpy as np\n",
        "import pandas as pd\n",
        "import matplotlib.pyplot as plt\n",
        "import seaborn as sns"
      ],
      "id": "eabe9102"
    },
    {
      "cell_type": "code",
      "execution_count": null,
      "metadata": {
        "colab": {
          "base_uri": "https://localhost:8080/",
          "height": 206
        },
        "id": "85b0b589",
        "outputId": "3045a781-e46b-48e2-9712-87886b2f9677"
      },
      "outputs": [
        {
          "data": {
            "text/html": [
              "\n",
              "  <div id=\"df-d690dc4f-7252-4285-8ffc-f7e66dfedb57\">\n",
              "    <div class=\"colab-df-container\">\n",
              "      <div>\n",
              "<style scoped>\n",
              "    .dataframe tbody tr th:only-of-type {\n",
              "        vertical-align: middle;\n",
              "    }\n",
              "\n",
              "    .dataframe tbody tr th {\n",
              "        vertical-align: top;\n",
              "    }\n",
              "\n",
              "    .dataframe thead th {\n",
              "        text-align: right;\n",
              "    }\n",
              "</style>\n",
              "<table border=\"1\" class=\"dataframe\">\n",
              "  <thead>\n",
              "    <tr style=\"text-align: right;\">\n",
              "      <th></th>\n",
              "      <th>Id</th>\n",
              "      <th>SepalLengthCm</th>\n",
              "      <th>SepalWidthCm</th>\n",
              "      <th>PetalLengthCm</th>\n",
              "      <th>PetalWidthCm</th>\n",
              "      <th>Species</th>\n",
              "    </tr>\n",
              "  </thead>\n",
              "  <tbody>\n",
              "    <tr>\n",
              "      <th>0</th>\n",
              "      <td>1</td>\n",
              "      <td>5.1</td>\n",
              "      <td>3.5</td>\n",
              "      <td>1.4</td>\n",
              "      <td>0.2</td>\n",
              "      <td>Iris-setosa</td>\n",
              "    </tr>\n",
              "    <tr>\n",
              "      <th>1</th>\n",
              "      <td>2</td>\n",
              "      <td>4.9</td>\n",
              "      <td>3.0</td>\n",
              "      <td>1.4</td>\n",
              "      <td>0.2</td>\n",
              "      <td>Iris-setosa</td>\n",
              "    </tr>\n",
              "    <tr>\n",
              "      <th>2</th>\n",
              "      <td>3</td>\n",
              "      <td>4.7</td>\n",
              "      <td>3.2</td>\n",
              "      <td>1.3</td>\n",
              "      <td>0.2</td>\n",
              "      <td>Iris-setosa</td>\n",
              "    </tr>\n",
              "    <tr>\n",
              "      <th>3</th>\n",
              "      <td>4</td>\n",
              "      <td>4.6</td>\n",
              "      <td>3.1</td>\n",
              "      <td>1.5</td>\n",
              "      <td>0.2</td>\n",
              "      <td>Iris-setosa</td>\n",
              "    </tr>\n",
              "    <tr>\n",
              "      <th>4</th>\n",
              "      <td>5</td>\n",
              "      <td>5.0</td>\n",
              "      <td>3.6</td>\n",
              "      <td>1.4</td>\n",
              "      <td>0.2</td>\n",
              "      <td>Iris-setosa</td>\n",
              "    </tr>\n",
              "  </tbody>\n",
              "</table>\n",
              "</div>\n",
              "      <button class=\"colab-df-convert\" onclick=\"convertToInteractive('df-d690dc4f-7252-4285-8ffc-f7e66dfedb57')\"\n",
              "              title=\"Convert this dataframe to an interactive table.\"\n",
              "              style=\"display:none;\">\n",
              "        \n",
              "  <svg xmlns=\"http://www.w3.org/2000/svg\" height=\"24px\"viewBox=\"0 0 24 24\"\n",
              "       width=\"24px\">\n",
              "    <path d=\"M0 0h24v24H0V0z\" fill=\"none\"/>\n",
              "    <path d=\"M18.56 5.44l.94 2.06.94-2.06 2.06-.94-2.06-.94-.94-2.06-.94 2.06-2.06.94zm-11 1L8.5 8.5l.94-2.06 2.06-.94-2.06-.94L8.5 2.5l-.94 2.06-2.06.94zm10 10l.94 2.06.94-2.06 2.06-.94-2.06-.94-.94-2.06-.94 2.06-2.06.94z\"/><path d=\"M17.41 7.96l-1.37-1.37c-.4-.4-.92-.59-1.43-.59-.52 0-1.04.2-1.43.59L10.3 9.45l-7.72 7.72c-.78.78-.78 2.05 0 2.83L4 21.41c.39.39.9.59 1.41.59.51 0 1.02-.2 1.41-.59l7.78-7.78 2.81-2.81c.8-.78.8-2.07 0-2.86zM5.41 20L4 18.59l7.72-7.72 1.47 1.35L5.41 20z\"/>\n",
              "  </svg>\n",
              "      </button>\n",
              "      \n",
              "  <style>\n",
              "    .colab-df-container {\n",
              "      display:flex;\n",
              "      flex-wrap:wrap;\n",
              "      gap: 12px;\n",
              "    }\n",
              "\n",
              "    .colab-df-convert {\n",
              "      background-color: #E8F0FE;\n",
              "      border: none;\n",
              "      border-radius: 50%;\n",
              "      cursor: pointer;\n",
              "      display: none;\n",
              "      fill: #1967D2;\n",
              "      height: 32px;\n",
              "      padding: 0 0 0 0;\n",
              "      width: 32px;\n",
              "    }\n",
              "\n",
              "    .colab-df-convert:hover {\n",
              "      background-color: #E2EBFA;\n",
              "      box-shadow: 0px 1px 2px rgba(60, 64, 67, 0.3), 0px 1px 3px 1px rgba(60, 64, 67, 0.15);\n",
              "      fill: #174EA6;\n",
              "    }\n",
              "\n",
              "    [theme=dark] .colab-df-convert {\n",
              "      background-color: #3B4455;\n",
              "      fill: #D2E3FC;\n",
              "    }\n",
              "\n",
              "    [theme=dark] .colab-df-convert:hover {\n",
              "      background-color: #434B5C;\n",
              "      box-shadow: 0px 1px 3px 1px rgba(0, 0, 0, 0.15);\n",
              "      filter: drop-shadow(0px 1px 2px rgba(0, 0, 0, 0.3));\n",
              "      fill: #FFFFFF;\n",
              "    }\n",
              "  </style>\n",
              "\n",
              "      <script>\n",
              "        const buttonEl =\n",
              "          document.querySelector('#df-d690dc4f-7252-4285-8ffc-f7e66dfedb57 button.colab-df-convert');\n",
              "        buttonEl.style.display =\n",
              "          google.colab.kernel.accessAllowed ? 'block' : 'none';\n",
              "\n",
              "        async function convertToInteractive(key) {\n",
              "          const element = document.querySelector('#df-d690dc4f-7252-4285-8ffc-f7e66dfedb57');\n",
              "          const dataTable =\n",
              "            await google.colab.kernel.invokeFunction('convertToInteractive',\n",
              "                                                     [key], {});\n",
              "          if (!dataTable) return;\n",
              "\n",
              "          const docLinkHtml = 'Like what you see? Visit the ' +\n",
              "            '<a target=\"_blank\" href=https://colab.research.google.com/notebooks/data_table.ipynb>data table notebook</a>'\n",
              "            + ' to learn more about interactive tables.';\n",
              "          element.innerHTML = '';\n",
              "          dataTable['output_type'] = 'display_data';\n",
              "          await google.colab.output.renderOutput(dataTable, element);\n",
              "          const docLink = document.createElement('div');\n",
              "          docLink.innerHTML = docLinkHtml;\n",
              "          element.appendChild(docLink);\n",
              "        }\n",
              "      </script>\n",
              "    </div>\n",
              "  </div>\n",
              "  "
            ],
            "text/plain": [
              "   Id  SepalLengthCm  SepalWidthCm  PetalLengthCm  PetalWidthCm      Species\n",
              "0   1            5.1           3.5            1.4           0.2  Iris-setosa\n",
              "1   2            4.9           3.0            1.4           0.2  Iris-setosa\n",
              "2   3            4.7           3.2            1.3           0.2  Iris-setosa\n",
              "3   4            4.6           3.1            1.5           0.2  Iris-setosa\n",
              "4   5            5.0           3.6            1.4           0.2  Iris-setosa"
            ]
          },
          "execution_count": 2,
          "metadata": {},
          "output_type": "execute_result"
        }
      ],
      "source": [
        "df = pd.read_csv(\"Iris.csv\")\n",
        "df.head()"
      ],
      "id": "85b0b589"
    },
    {
      "cell_type": "code",
      "execution_count": null,
      "metadata": {
        "colab": {
          "base_uri": "https://localhost:8080/"
        },
        "id": "vnjSANNnOW03",
        "outputId": "dfe17bef-a898-4263-d33b-e05f28d219d4"
      },
      "outputs": [
        {
          "data": {
            "text/plain": [
              "Id               0\n",
              "SepalLengthCm    0\n",
              "SepalWidthCm     0\n",
              "PetalLengthCm    0\n",
              "PetalWidthCm     0\n",
              "Species          0\n",
              "dtype: int64"
            ]
          },
          "execution_count": 7,
          "metadata": {},
          "output_type": "execute_result"
        }
      ],
      "source": [
        "# checking null values\n",
        "df.isnull().sum()"
      ],
      "id": "vnjSANNnOW03"
    },
    {
      "cell_type": "code",
      "execution_count": null,
      "metadata": {
        "colab": {
          "base_uri": "https://localhost:8080/"
        },
        "id": "EvyMeBnOObCN",
        "outputId": "5be21609-9ac8-4ec2-9377-e0dc9c5fb4bf"
      },
      "outputs": [
        {
          "name": "stdout",
          "output_type": "stream",
          "text": [
            "0      False\n",
            "1      False\n",
            "2      False\n",
            "3      False\n",
            "4      False\n",
            "5      False\n",
            "6      False\n",
            "7      False\n",
            "8      False\n",
            "9      False\n",
            "10     False\n",
            "11     False\n",
            "12     False\n",
            "13     False\n",
            "14     False\n",
            "15     False\n",
            "16     False\n",
            "17     False\n",
            "18     False\n",
            "19     False\n",
            "20     False\n",
            "21     False\n",
            "22     False\n",
            "23     False\n",
            "24     False\n",
            "25     False\n",
            "26     False\n",
            "27     False\n",
            "28     False\n",
            "29     False\n",
            "30     False\n",
            "31     False\n",
            "32     False\n",
            "33     False\n",
            "34     False\n",
            "35     False\n",
            "36     False\n",
            "37     False\n",
            "38     False\n",
            "39     False\n",
            "40     False\n",
            "41     False\n",
            "42     False\n",
            "43     False\n",
            "44     False\n",
            "45     False\n",
            "46     False\n",
            "47     False\n",
            "48     False\n",
            "49     False\n",
            "50     False\n",
            "51     False\n",
            "52     False\n",
            "53     False\n",
            "54     False\n",
            "55     False\n",
            "56     False\n",
            "57     False\n",
            "58     False\n",
            "59     False\n",
            "60     False\n",
            "61     False\n",
            "62     False\n",
            "63     False\n",
            "64     False\n",
            "65     False\n",
            "66     False\n",
            "67     False\n",
            "68     False\n",
            "69     False\n",
            "70     False\n",
            "71     False\n",
            "72     False\n",
            "73     False\n",
            "74     False\n",
            "75     False\n",
            "76     False\n",
            "77     False\n",
            "78     False\n",
            "79     False\n",
            "80     False\n",
            "81     False\n",
            "82     False\n",
            "83     False\n",
            "84     False\n",
            "85     False\n",
            "86     False\n",
            "87     False\n",
            "88     False\n",
            "89     False\n",
            "90     False\n",
            "91     False\n",
            "92     False\n",
            "93     False\n",
            "94     False\n",
            "95     False\n",
            "96     False\n",
            "97     False\n",
            "98     False\n",
            "99     False\n",
            "100    False\n",
            "101    False\n",
            "102    False\n",
            "103    False\n",
            "104    False\n",
            "105    False\n",
            "106    False\n",
            "107    False\n",
            "108    False\n",
            "109    False\n",
            "110    False\n",
            "111    False\n",
            "112    False\n",
            "113    False\n",
            "114    False\n",
            "115    False\n",
            "116    False\n",
            "117    False\n",
            "118    False\n",
            "119    False\n",
            "120    False\n",
            "121    False\n",
            "122    False\n",
            "123    False\n",
            "124    False\n",
            "125    False\n",
            "126    False\n",
            "127    False\n",
            "128    False\n",
            "129    False\n",
            "130    False\n",
            "131    False\n",
            "132    False\n",
            "133    False\n",
            "134    False\n",
            "135    False\n",
            "136    False\n",
            "137    False\n",
            "138    False\n",
            "139    False\n",
            "140    False\n",
            "141    False\n",
            "142    False\n",
            "143    False\n",
            "144    False\n",
            "145    False\n",
            "146    False\n",
            "147    False\n",
            "148    False\n",
            "149    False\n"
          ]
        }
      ],
      "source": [
        "# checking for duplicate values\n",
        "print(df.duplicated().to_string())"
      ],
      "id": "EvyMeBnOObCN"
    },
    {
      "cell_type": "code",
      "execution_count": null,
      "metadata": {
        "id": "3nafxr1GSOL4"
      },
      "outputs": [],
      "source": [
        "df.drop(columns=['Id'], inplace = True)"
      ],
      "id": "3nafxr1GSOL4"
    },
    {
      "cell_type": "code",
      "execution_count": null,
      "metadata": {
        "colab": {
          "base_uri": "https://localhost:8080/"
        },
        "id": "QgdQJxvpRmp5",
        "outputId": "a3a7ba50-c386-4526-d64d-66f34932f88d"
      },
      "outputs": [
        {
          "data": {
            "text/plain": [
              "Index(['SepalLengthCm', 'SepalWidthCm', 'PetalLengthCm', 'PetalWidthCm',\n",
              "       'Species'],\n",
              "      dtype='object')"
            ]
          },
          "execution_count": 28,
          "metadata": {},
          "output_type": "execute_result"
        }
      ],
      "source": [
        "# features\n",
        "df.columns"
      ],
      "id": "QgdQJxvpRmp5"
    },
    {
      "cell_type": "code",
      "execution_count": null,
      "metadata": {
        "colab": {
          "base_uri": "https://localhost:8080/"
        },
        "id": "XKkDVFVKRvfS",
        "outputId": "8fc6413d-82a7-4619-a1a8-00dfb4cbe365"
      },
      "outputs": [
        {
          "data": {
            "text/plain": [
              "SepalLengthCm    float64\n",
              "SepalWidthCm     float64\n",
              "PetalLengthCm    float64\n",
              "PetalWidthCm     float64\n",
              "Species           object\n",
              "dtype: object"
            ]
          },
          "execution_count": 29,
          "metadata": {},
          "output_type": "execute_result"
        }
      ],
      "source": [
        "# feature type\n",
        "df.dtypes"
      ],
      "id": "XKkDVFVKRvfS"
    },
    {
      "cell_type": "markdown",
      "metadata": {
        "id": "gQHtRuNNUeci"
      },
      "source": [
        "4 numeric type (Quantitative - Continuous)"
      ],
      "id": "gQHtRuNNUeci"
    },
    {
      "cell_type": "code",
      "execution_count": null,
      "metadata": {
        "colab": {
          "base_uri": "https://localhost:8080/"
        },
        "id": "tn0c_VMxUBfb",
        "outputId": "5631112a-77e2-4c01-c8cb-34f5945fae70"
      },
      "outputs": [
        {
          "data": {
            "text/plain": [
              "array(['Iris-setosa', 'Iris-versicolor', 'Iris-virginica'], dtype=object)"
            ]
          },
          "execution_count": 30,
          "metadata": {},
          "output_type": "execute_result"
        }
      ],
      "source": [
        "np.unique(df[\"Species\"])"
      ],
      "id": "tn0c_VMxUBfb"
    },
    {
      "cell_type": "markdown",
      "metadata": {
        "id": "Gtm6z3gQU6YD"
      },
      "source": [
        "and 1 Categorical i.e. Nominal"
      ],
      "id": "Gtm6z3gQU6YD"
    },
    {
      "cell_type": "markdown",
      "metadata": {
        "id": "5zueQljzWVDC"
      },
      "source": [
        "Create a histogram for each feature in the dataset to illustrate the feature distributions."
      ],
      "id": "5zueQljzWVDC"
    },
    {
      "cell_type": "code",
      "execution_count": null,
      "metadata": {
        "colab": {
          "base_uri": "https://localhost:8080/",
          "height": 352
        },
        "id": "13c709ba",
        "outputId": "8d817df1-b9f5-4e2d-db12-571d555a12ad"
      },
      "outputs": [
        {
          "data": {
            "image/png": "[encoded data removed]",
            "text/plain": [
              "<Figure size 1152x576 with 4 Axes>"
            ]
          },
          "metadata": {
            "needs_background": "light"
          },
          "output_type": "display_data"
        }
      ],
      "source": [
        "fig, axes = plt.subplots(2, 2, figsize=(16, 8))\n",
        "\n",
        "axes[0,0].set_title(\"Distribution of Sepal Length\")\n",
        "axes[0,0].hist(df[\"SepalLengthCm\"]);\n",
        "\n",
        "axes[0,1].set_title(\"Distribution of Sepal Width\")\n",
        "axes[0,1].hist(df[\"SepalWidthCm\"]);\n",
        "\n",
        "axes[1,0].set_title(\"Distribution of Petal Length\")\n",
        "axes[1,0].hist(df[\"PetalLengthCm\"]);\n",
        "\n",
        "axes[1,1].set_title(\"Distribution of Petal Width\")\n",
        "axes[1,1].hist(df[\"PetalWidthCm\"]);"
      ],
      "id": "13c709ba"
    },
    {
      "cell_type": "markdown",
      "metadata": {
        "id": "LEPL7TljWe6s"
      },
      "source": [
        "Create a boxplot for each feature in the dataset. "
      ],
      "id": "LEPL7TljWe6s"
    },
    {
      "cell_type": "code",
      "execution_count": null,
      "metadata": {
        "colab": {
          "base_uri": "https://localhost:8080/",
          "height": 282
        },
        "id": "76f2cd80",
        "outputId": "0b4eb993-f805-4069-ea63-dc7aa2ddf408"
      },
      "outputs": [
        {
          "data": {
            "text/plain": [
              "<matplotlib.axes._subplots.AxesSubplot at 0x7f67fff923d0>"
            ]
          },
          "execution_count": 33,
          "metadata": {},
          "output_type": "execute_result"
        },
        {
          "data": {
            "image/png": "[encoded data removed]",
            "text/plain": [
              "<Figure size 432x288 with 1 Axes>"
            ]
          },
          "metadata": {
            "needs_background": "light"
          },
          "output_type": "display_data"
        }
      ],
      "source": [
        "df.boxplot()"
      ],
      "id": "76f2cd80"
    },
    {
      "cell_type": "markdown",
      "metadata": {
        "id": "5yShQC9KWrCp"
      },
      "source": [
        "Compare distributions and identify outliers."
      ],
      "id": "5yShQC9KWrCp"
    },
    {
      "cell_type": "code",
      "execution_count": null,
      "metadata": {
        "colab": {
          "base_uri": "https://localhost:8080/",
          "height": 449
        },
        "id": "31e8df5a",
        "outputId": "1c40b08d-d963-4807-c27a-6c5ae66fa120"
      },
      "outputs": [
        {
          "data": {
            "image/png": "[encoded data removed]",
            "text/plain": [
              "<Figure size 864x576 with 1 Axes>"
            ]
          },
          "metadata": {
            "needs_background": "light"
          },
          "output_type": "display_data"
        }
      ],
      "source": [
        "box_plot = [df[\"SepalLengthCm\"], df[\"SepalWidthCm\"], df[\"PetalLengthCm\"], df[\"PetalWidthCm\"]]\n",
        "# Creating a figure instance\n",
        "fig = plt.figure(1, figsize=(12,8))\n",
        "# Creating an axes instance\n",
        "ax = fig.add_subplot(111)\n",
        "# Creating the boxplot\n",
        "bp = ax.boxplot(box_plot);"
      ],
      "id": "31e8df5a"
    },
    {
      "cell_type": "code",
      "execution_count": null,
      "metadata": {
        "colab": {
          "base_uri": "https://localhost:8080/",
          "height": 296
        },
        "id": "e23f2da8",
        "outputId": "864b5386-4e26-4bd9-99cb-6d3ec01fd41f"
      },
      "outputs": [
        {
          "data": {
            "text/plain": [
              "<matplotlib.axes._subplots.AxesSubplot at 0x7f67ffb13d50>"
            ]
          },
          "execution_count": 37,
          "metadata": {},
          "output_type": "execute_result"
        },
        {
          "data": {
            "image/png": "[encoded data removed]",
            "text/plain": [
              "<Figure size 432x288 with 1 Axes>"
            ]
          },
          "metadata": {
            "needs_background": "light"
          },
          "output_type": "display_data"
        }
      ],
      "source": [
        "# outliers\n",
        "sns.boxplot(x='SepalWidthCm', data=df)"
      ],
      "id": "e23f2da8"
    }
  ],
  "metadata": {
    "colab": {
      "collapsed_sections": [],
      "name": "A13/14.ipynb",
      "provenance": []
    },
    "kernelspec": {
      "display_name": "Python 3",
      "language": "python",
      "name": "python3"
    },
    "language_info": {
      "codemirror_mode": {
        "name": "ipython",
        "version": 3
      },
      "file_extension": ".py",
      "mimetype": "text/x-python",
      "name": "python",
      "nbconvert_exporter": "python",
      "pygments_lexer": "ipython3",
      "version": "3.8.10"
    }
  },
  "nbformat": 4,
  "nbformat_minor": 5
}